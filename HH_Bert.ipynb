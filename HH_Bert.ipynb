{
  "cells": [
    {
      "cell_type": "code",
      "execution_count": null,
      "metadata": {
        "colab": {
          "base_uri": "https://localhost:8080/"
        },
        "id": "KyG-fp0rIdDY",
        "outputId": "8802024d-86e5-441f-e1fd-b20392ec4f45"
      },
      "outputs": [
        {
          "output_type": "stream",
          "name": "stdout",
          "text": [
            "Collecting tensorflow_addons\n",
            "  Downloading tensorflow_addons-0.15.0-cp37-cp37m-manylinux_2_12_x86_64.manylinux2010_x86_64.whl (1.1 MB)\n",
            "\u001b[?25l\r\u001b[K     |▎                               | 10 kB 20.2 MB/s eta 0:00:01\r\u001b[K     |▋                               | 20 kB 21.9 MB/s eta 0:00:01\r\u001b[K     |▉                               | 30 kB 10.6 MB/s eta 0:00:01\r\u001b[K     |█▏                              | 40 kB 8.5 MB/s eta 0:00:01\r\u001b[K     |█▌                              | 51 kB 5.4 MB/s eta 0:00:01\r\u001b[K     |█▊                              | 61 kB 5.5 MB/s eta 0:00:01\r\u001b[K     |██                              | 71 kB 5.5 MB/s eta 0:00:01\r\u001b[K     |██▍                             | 81 kB 6.2 MB/s eta 0:00:01\r\u001b[K     |██▋                             | 92 kB 6.3 MB/s eta 0:00:01\r\u001b[K     |███                             | 102 kB 5.3 MB/s eta 0:00:01\r\u001b[K     |███▎                            | 112 kB 5.3 MB/s eta 0:00:01\r\u001b[K     |███▌                            | 122 kB 5.3 MB/s eta 0:00:01\r\u001b[K     |███▉                            | 133 kB 5.3 MB/s eta 0:00:01\r\u001b[K     |████▏                           | 143 kB 5.3 MB/s eta 0:00:01\r\u001b[K     |████▍                           | 153 kB 5.3 MB/s eta 0:00:01\r\u001b[K     |████▊                           | 163 kB 5.3 MB/s eta 0:00:01\r\u001b[K     |█████                           | 174 kB 5.3 MB/s eta 0:00:01\r\u001b[K     |█████▎                          | 184 kB 5.3 MB/s eta 0:00:01\r\u001b[K     |█████▋                          | 194 kB 5.3 MB/s eta 0:00:01\r\u001b[K     |█████▉                          | 204 kB 5.3 MB/s eta 0:00:01\r\u001b[K     |██████▏                         | 215 kB 5.3 MB/s eta 0:00:01\r\u001b[K     |██████▌                         | 225 kB 5.3 MB/s eta 0:00:01\r\u001b[K     |██████▊                         | 235 kB 5.3 MB/s eta 0:00:01\r\u001b[K     |███████                         | 245 kB 5.3 MB/s eta 0:00:01\r\u001b[K     |███████▍                        | 256 kB 5.3 MB/s eta 0:00:01\r\u001b[K     |███████▋                        | 266 kB 5.3 MB/s eta 0:00:01\r\u001b[K     |████████                        | 276 kB 5.3 MB/s eta 0:00:01\r\u001b[K     |████████▎                       | 286 kB 5.3 MB/s eta 0:00:01\r\u001b[K     |████████▌                       | 296 kB 5.3 MB/s eta 0:00:01\r\u001b[K     |████████▉                       | 307 kB 5.3 MB/s eta 0:00:01\r\u001b[K     |█████████                       | 317 kB 5.3 MB/s eta 0:00:01\r\u001b[K     |█████████▍                      | 327 kB 5.3 MB/s eta 0:00:01\r\u001b[K     |█████████▊                      | 337 kB 5.3 MB/s eta 0:00:01\r\u001b[K     |██████████                      | 348 kB 5.3 MB/s eta 0:00:01\r\u001b[K     |██████████▎                     | 358 kB 5.3 MB/s eta 0:00:01\r\u001b[K     |██████████▋                     | 368 kB 5.3 MB/s eta 0:00:01\r\u001b[K     |██████████▉                     | 378 kB 5.3 MB/s eta 0:00:01\r\u001b[K     |███████████▏                    | 389 kB 5.3 MB/s eta 0:00:01\r\u001b[K     |███████████▌                    | 399 kB 5.3 MB/s eta 0:00:01\r\u001b[K     |███████████▊                    | 409 kB 5.3 MB/s eta 0:00:01\r\u001b[K     |████████████                    | 419 kB 5.3 MB/s eta 0:00:01\r\u001b[K     |████████████▍                   | 430 kB 5.3 MB/s eta 0:00:01\r\u001b[K     |████████████▋                   | 440 kB 5.3 MB/s eta 0:00:01\r\u001b[K     |█████████████                   | 450 kB 5.3 MB/s eta 0:00:01\r\u001b[K     |█████████████▎                  | 460 kB 5.3 MB/s eta 0:00:01\r\u001b[K     |█████████████▌                  | 471 kB 5.3 MB/s eta 0:00:01\r\u001b[K     |█████████████▉                  | 481 kB 5.3 MB/s eta 0:00:01\r\u001b[K     |██████████████                  | 491 kB 5.3 MB/s eta 0:00:01\r\u001b[K     |██████████████▍                 | 501 kB 5.3 MB/s eta 0:00:01\r\u001b[K     |██████████████▊                 | 512 kB 5.3 MB/s eta 0:00:01\r\u001b[K     |███████████████                 | 522 kB 5.3 MB/s eta 0:00:01\r\u001b[K     |███████████████▎                | 532 kB 5.3 MB/s eta 0:00:01\r\u001b[K     |███████████████▋                | 542 kB 5.3 MB/s eta 0:00:01\r\u001b[K     |███████████████▉                | 552 kB 5.3 MB/s eta 0:00:01\r\u001b[K     |████████████████▏               | 563 kB 5.3 MB/s eta 0:00:01\r\u001b[K     |████████████████▌               | 573 kB 5.3 MB/s eta 0:00:01\r\u001b[K     |████████████████▊               | 583 kB 5.3 MB/s eta 0:00:01\r\u001b[K     |█████████████████               | 593 kB 5.3 MB/s eta 0:00:01\r\u001b[K     |█████████████████▍              | 604 kB 5.3 MB/s eta 0:00:01\r\u001b[K     |█████████████████▋              | 614 kB 5.3 MB/s eta 0:00:01\r\u001b[K     |██████████████████              | 624 kB 5.3 MB/s eta 0:00:01\r\u001b[K     |██████████████████▏             | 634 kB 5.3 MB/s eta 0:00:01\r\u001b[K     |██████████████████▌             | 645 kB 5.3 MB/s eta 0:00:01\r\u001b[K     |██████████████████▉             | 655 kB 5.3 MB/s eta 0:00:01\r\u001b[K     |███████████████████             | 665 kB 5.3 MB/s eta 0:00:01\r\u001b[K     |███████████████████▍            | 675 kB 5.3 MB/s eta 0:00:01\r\u001b[K     |███████████████████▊            | 686 kB 5.3 MB/s eta 0:00:01\r\u001b[K     |████████████████████            | 696 kB 5.3 MB/s eta 0:00:01\r\u001b[K     |████████████████████▎           | 706 kB 5.3 MB/s eta 0:00:01\r\u001b[K     |████████████████████▋           | 716 kB 5.3 MB/s eta 0:00:01\r\u001b[K     |████████████████████▉           | 727 kB 5.3 MB/s eta 0:00:01\r\u001b[K     |█████████████████████▏          | 737 kB 5.3 MB/s eta 0:00:01\r\u001b[K     |█████████████████████▌          | 747 kB 5.3 MB/s eta 0:00:01\r\u001b[K     |█████████████████████▊          | 757 kB 5.3 MB/s eta 0:00:01\r\u001b[K     |██████████████████████          | 768 kB 5.3 MB/s eta 0:00:01\r\u001b[K     |██████████████████████▎         | 778 kB 5.3 MB/s eta 0:00:01\r\u001b[K     |██████████████████████▋         | 788 kB 5.3 MB/s eta 0:00:01\r\u001b[K     |███████████████████████         | 798 kB 5.3 MB/s eta 0:00:01\r\u001b[K     |███████████████████████▏        | 808 kB 5.3 MB/s eta 0:00:01\r\u001b[K     |███████████████████████▌        | 819 kB 5.3 MB/s eta 0:00:01\r\u001b[K     |███████████████████████▉        | 829 kB 5.3 MB/s eta 0:00:01\r\u001b[K     |████████████████████████        | 839 kB 5.3 MB/s eta 0:00:01\r\u001b[K     |████████████████████████▍       | 849 kB 5.3 MB/s eta 0:00:01\r\u001b[K     |████████████████████████▊       | 860 kB 5.3 MB/s eta 0:00:01\r\u001b[K     |█████████████████████████       | 870 kB 5.3 MB/s eta 0:00:01\r\u001b[K     |█████████████████████████▎      | 880 kB 5.3 MB/s eta 0:00:01\r\u001b[K     |█████████████████████████▋      | 890 kB 5.3 MB/s eta 0:00:01\r\u001b[K     |█████████████████████████▉      | 901 kB 5.3 MB/s eta 0:00:01\r\u001b[K     |██████████████████████████▏     | 911 kB 5.3 MB/s eta 0:00:01\r\u001b[K     |██████████████████████████▌     | 921 kB 5.3 MB/s eta 0:00:01\r\u001b[K     |██████████████████████████▊     | 931 kB 5.3 MB/s eta 0:00:01\r\u001b[K     |███████████████████████████     | 942 kB 5.3 MB/s eta 0:00:01\r\u001b[K     |███████████████████████████▎    | 952 kB 5.3 MB/s eta 0:00:01\r\u001b[K     |███████████████████████████▋    | 962 kB 5.3 MB/s eta 0:00:01\r\u001b[K     |████████████████████████████    | 972 kB 5.3 MB/s eta 0:00:01\r\u001b[K     |████████████████████████████▏   | 983 kB 5.3 MB/s eta 0:00:01\r\u001b[K     |████████████████████████████▌   | 993 kB 5.3 MB/s eta 0:00:01\r\u001b[K     |████████████████████████████▉   | 1.0 MB 5.3 MB/s eta 0:00:01\r\u001b[K     |█████████████████████████████   | 1.0 MB 5.3 MB/s eta 0:00:01\r\u001b[K     |█████████████████████████████▍  | 1.0 MB 5.3 MB/s eta 0:00:01\r\u001b[K     |█████████████████████████████▊  | 1.0 MB 5.3 MB/s eta 0:00:01\r\u001b[K     |██████████████████████████████  | 1.0 MB 5.3 MB/s eta 0:00:01\r\u001b[K     |██████████████████████████████▎ | 1.1 MB 5.3 MB/s eta 0:00:01\r\u001b[K     |██████████████████████████████▋ | 1.1 MB 5.3 MB/s eta 0:00:01\r\u001b[K     |██████████████████████████████▉ | 1.1 MB 5.3 MB/s eta 0:00:01\r\u001b[K     |███████████████████████████████▏| 1.1 MB 5.3 MB/s eta 0:00:01\r\u001b[K     |███████████████████████████████▍| 1.1 MB 5.3 MB/s eta 0:00:01\r\u001b[K     |███████████████████████████████▊| 1.1 MB 5.3 MB/s eta 0:00:01\r\u001b[K     |████████████████████████████████| 1.1 MB 5.3 MB/s \n",
            "\u001b[?25hRequirement already satisfied: typeguard>=2.7 in /usr/local/lib/python3.7/dist-packages (from tensorflow_addons) (2.7.1)\n",
            "Installing collected packages: tensorflow-addons\n",
            "Successfully installed tensorflow-addons-0.15.0\n",
            "Collecting tensorflow_text\n",
            "  Downloading tensorflow_text-2.7.3-cp37-cp37m-manylinux2010_x86_64.whl (4.9 MB)\n",
            "\u001b[K     |████████████████████████████████| 4.9 MB 5.4 MB/s \n",
            "\u001b[?25hRequirement already satisfied: tensorflow<2.8,>=2.7.0 in /usr/local/lib/python3.7/dist-packages (from tensorflow_text) (2.7.0)\n",
            "Requirement already satisfied: tensorflow-hub>=0.8.0 in /usr/local/lib/python3.7/dist-packages (from tensorflow_text) (0.12.0)\n",
            "Requirement already satisfied: tensorboard~=2.6 in /usr/local/lib/python3.7/dist-packages (from tensorflow<2.8,>=2.7.0->tensorflow_text) (2.7.0)\n",
            "Requirement already satisfied: absl-py>=0.4.0 in /usr/local/lib/python3.7/dist-packages (from tensorflow<2.8,>=2.7.0->tensorflow_text) (1.0.0)\n",
            "Requirement already satisfied: tensorflow-io-gcs-filesystem>=0.21.0 in /usr/local/lib/python3.7/dist-packages (from tensorflow<2.8,>=2.7.0->tensorflow_text) (0.23.1)\n",
            "Requirement already satisfied: wheel<1.0,>=0.32.0 in /usr/local/lib/python3.7/dist-packages (from tensorflow<2.8,>=2.7.0->tensorflow_text) (0.37.1)\n",
            "Requirement already satisfied: six>=1.12.0 in /usr/local/lib/python3.7/dist-packages (from tensorflow<2.8,>=2.7.0->tensorflow_text) (1.15.0)\n",
            "Requirement already satisfied: protobuf>=3.9.2 in /usr/local/lib/python3.7/dist-packages (from tensorflow<2.8,>=2.7.0->tensorflow_text) (3.17.3)\n",
            "Requirement already satisfied: keras-preprocessing>=1.1.1 in /usr/local/lib/python3.7/dist-packages (from tensorflow<2.8,>=2.7.0->tensorflow_text) (1.1.2)\n",
            "Requirement already satisfied: gast<0.5.0,>=0.2.1 in /usr/local/lib/python3.7/dist-packages (from tensorflow<2.8,>=2.7.0->tensorflow_text) (0.4.0)\n",
            "Requirement already satisfied: wrapt>=1.11.0 in /usr/local/lib/python3.7/dist-packages (from tensorflow<2.8,>=2.7.0->tensorflow_text) (1.13.3)\n",
            "Requirement already satisfied: h5py>=2.9.0 in /usr/local/lib/python3.7/dist-packages (from tensorflow<2.8,>=2.7.0->tensorflow_text) (3.1.0)\n",
            "Requirement already satisfied: keras<2.8,>=2.7.0rc0 in /usr/local/lib/python3.7/dist-packages (from tensorflow<2.8,>=2.7.0->tensorflow_text) (2.7.0)\n",
            "Requirement already satisfied: tensorflow-estimator<2.8,~=2.7.0rc0 in /usr/local/lib/python3.7/dist-packages (from tensorflow<2.8,>=2.7.0->tensorflow_text) (2.7.0)\n",
            "Requirement already satisfied: termcolor>=1.1.0 in /usr/local/lib/python3.7/dist-packages (from tensorflow<2.8,>=2.7.0->tensorflow_text) (1.1.0)\n",
            "Requirement already satisfied: flatbuffers<3.0,>=1.12 in /usr/local/lib/python3.7/dist-packages (from tensorflow<2.8,>=2.7.0->tensorflow_text) (2.0)\n",
            "Requirement already satisfied: grpcio<2.0,>=1.24.3 in /usr/local/lib/python3.7/dist-packages (from tensorflow<2.8,>=2.7.0->tensorflow_text) (1.43.0)\n",
            "Requirement already satisfied: google-pasta>=0.1.1 in /usr/local/lib/python3.7/dist-packages (from tensorflow<2.8,>=2.7.0->tensorflow_text) (0.2.0)\n",
            "Requirement already satisfied: numpy>=1.14.5 in /usr/local/lib/python3.7/dist-packages (from tensorflow<2.8,>=2.7.0->tensorflow_text) (1.19.5)\n",
            "Requirement already satisfied: libclang>=9.0.1 in /usr/local/lib/python3.7/dist-packages (from tensorflow<2.8,>=2.7.0->tensorflow_text) (12.0.0)\n",
            "Requirement already satisfied: typing-extensions>=3.6.6 in /usr/local/lib/python3.7/dist-packages (from tensorflow<2.8,>=2.7.0->tensorflow_text) (3.10.0.2)\n",
            "Requirement already satisfied: astunparse>=1.6.0 in /usr/local/lib/python3.7/dist-packages (from tensorflow<2.8,>=2.7.0->tensorflow_text) (1.6.3)\n",
            "Requirement already satisfied: opt-einsum>=2.3.2 in /usr/local/lib/python3.7/dist-packages (from tensorflow<2.8,>=2.7.0->tensorflow_text) (3.3.0)\n",
            "Requirement already satisfied: cached-property in /usr/local/lib/python3.7/dist-packages (from h5py>=2.9.0->tensorflow<2.8,>=2.7.0->tensorflow_text) (1.5.2)\n",
            "Requirement already satisfied: markdown>=2.6.8 in /usr/local/lib/python3.7/dist-packages (from tensorboard~=2.6->tensorflow<2.8,>=2.7.0->tensorflow_text) (3.3.6)\n",
            "Requirement already satisfied: setuptools>=41.0.0 in /usr/local/lib/python3.7/dist-packages (from tensorboard~=2.6->tensorflow<2.8,>=2.7.0->tensorflow_text) (57.4.0)\n",
            "Requirement already satisfied: google-auth-oauthlib<0.5,>=0.4.1 in /usr/local/lib/python3.7/dist-packages (from tensorboard~=2.6->tensorflow<2.8,>=2.7.0->tensorflow_text) (0.4.6)\n",
            "Requirement already satisfied: requests<3,>=2.21.0 in /usr/local/lib/python3.7/dist-packages (from tensorboard~=2.6->tensorflow<2.8,>=2.7.0->tensorflow_text) (2.23.0)\n",
            "Requirement already satisfied: werkzeug>=0.11.15 in /usr/local/lib/python3.7/dist-packages (from tensorboard~=2.6->tensorflow<2.8,>=2.7.0->tensorflow_text) (1.0.1)\n",
            "Requirement already satisfied: tensorboard-data-server<0.7.0,>=0.6.0 in /usr/local/lib/python3.7/dist-packages (from tensorboard~=2.6->tensorflow<2.8,>=2.7.0->tensorflow_text) (0.6.1)\n",
            "Requirement already satisfied: google-auth<3,>=1.6.3 in /usr/local/lib/python3.7/dist-packages (from tensorboard~=2.6->tensorflow<2.8,>=2.7.0->tensorflow_text) (1.35.0)\n",
            "Requirement already satisfied: tensorboard-plugin-wit>=1.6.0 in /usr/local/lib/python3.7/dist-packages (from tensorboard~=2.6->tensorflow<2.8,>=2.7.0->tensorflow_text) (1.8.1)\n",
            "Requirement already satisfied: rsa<5,>=3.1.4 in /usr/local/lib/python3.7/dist-packages (from google-auth<3,>=1.6.3->tensorboard~=2.6->tensorflow<2.8,>=2.7.0->tensorflow_text) (4.8)\n",
            "Requirement already satisfied: cachetools<5.0,>=2.0.0 in /usr/local/lib/python3.7/dist-packages (from google-auth<3,>=1.6.3->tensorboard~=2.6->tensorflow<2.8,>=2.7.0->tensorflow_text) (4.2.4)\n",
            "Requirement already satisfied: pyasn1-modules>=0.2.1 in /usr/local/lib/python3.7/dist-packages (from google-auth<3,>=1.6.3->tensorboard~=2.6->tensorflow<2.8,>=2.7.0->tensorflow_text) (0.2.8)\n",
            "Requirement already satisfied: requests-oauthlib>=0.7.0 in /usr/local/lib/python3.7/dist-packages (from google-auth-oauthlib<0.5,>=0.4.1->tensorboard~=2.6->tensorflow<2.8,>=2.7.0->tensorflow_text) (1.3.0)\n",
            "Requirement already satisfied: importlib-metadata>=4.4 in /usr/local/lib/python3.7/dist-packages (from markdown>=2.6.8->tensorboard~=2.6->tensorflow<2.8,>=2.7.0->tensorflow_text) (4.10.1)\n",
            "Requirement already satisfied: zipp>=0.5 in /usr/local/lib/python3.7/dist-packages (from importlib-metadata>=4.4->markdown>=2.6.8->tensorboard~=2.6->tensorflow<2.8,>=2.7.0->tensorflow_text) (3.7.0)\n",
            "Requirement already satisfied: pyasn1<0.5.0,>=0.4.6 in /usr/local/lib/python3.7/dist-packages (from pyasn1-modules>=0.2.1->google-auth<3,>=1.6.3->tensorboard~=2.6->tensorflow<2.8,>=2.7.0->tensorflow_text) (0.4.8)\n",
            "Requirement already satisfied: urllib3!=1.25.0,!=1.25.1,<1.26,>=1.21.1 in /usr/local/lib/python3.7/dist-packages (from requests<3,>=2.21.0->tensorboard~=2.6->tensorflow<2.8,>=2.7.0->tensorflow_text) (1.24.3)\n",
            "Requirement already satisfied: certifi>=2017.4.17 in /usr/local/lib/python3.7/dist-packages (from requests<3,>=2.21.0->tensorboard~=2.6->tensorflow<2.8,>=2.7.0->tensorflow_text) (2021.10.8)\n",
            "Requirement already satisfied: idna<3,>=2.5 in /usr/local/lib/python3.7/dist-packages (from requests<3,>=2.21.0->tensorboard~=2.6->tensorflow<2.8,>=2.7.0->tensorflow_text) (2.10)\n",
            "Requirement already satisfied: chardet<4,>=3.0.2 in /usr/local/lib/python3.7/dist-packages (from requests<3,>=2.21.0->tensorboard~=2.6->tensorflow<2.8,>=2.7.0->tensorflow_text) (3.0.4)\n",
            "Requirement already satisfied: oauthlib>=3.0.0 in /usr/local/lib/python3.7/dist-packages (from requests-oauthlib>=0.7.0->google-auth-oauthlib<0.5,>=0.4.1->tensorboard~=2.6->tensorflow<2.8,>=2.7.0->tensorflow_text) (3.1.1)\n",
            "Installing collected packages: tensorflow-text\n",
            "Successfully installed tensorflow-text-2.7.3\n",
            "\u001b[K     |████████████████████████████████| 1.8 MB 4.8 MB/s \n",
            "\u001b[K     |████████████████████████████████| 596 kB 22.4 MB/s \n",
            "\u001b[K     |████████████████████████████████| 47.7 MB 80 kB/s \n",
            "\u001b[K     |████████████████████████████████| 90 kB 4.9 MB/s \n",
            "\u001b[K     |████████████████████████████████| 99 kB 6.0 MB/s \n",
            "\u001b[K     |████████████████████████████████| 43 kB 833 kB/s \n",
            "\u001b[K     |████████████████████████████████| 1.2 MB 33.9 MB/s \n",
            "\u001b[K     |████████████████████████████████| 352 kB 35.4 MB/s \n",
            "\u001b[K     |████████████████████████████████| 213 kB 32.4 MB/s \n",
            "\u001b[?25h  Building wheel for py-cpuinfo (setup.py) ... \u001b[?25l\u001b[?25hdone\n",
            "  Building wheel for seqeval (setup.py) ... \u001b[?25l\u001b[?25hdone\n"
          ]
        }
      ],
      "source": [
        "import numpy as np\n",
        "import tensorflow as tf\n",
        "import pandas as pd\n",
        "!pip install tensorflow_addons\n",
        "import tensorflow_addons as tfa\n",
        "from sklearn.model_selection import train_test_split\n",
        "import os\n",
        "import shutil\n",
        "\n",
        "import tensorflow_hub as hub\n",
        "\n",
        "!pip install tensorflow_text\n",
        "import tensorflow_text as text\n",
        "!pip install -q tf-models-official\n",
        "from official.nlp import optimization  # to create AdamW optimizer\n",
        "\n",
        "import matplotlib.pyplot as plt\n",
        "\n",
        "tf.get_logger().setLevel('ERROR')                                     "
      ]
    },
    {
      "cell_type": "code",
      "source": [
        "from google.colab import drive\n",
        "drive.mount('/content/drive')"
      ],
      "metadata": {
        "id": "U0i5FKyqhcys",
        "colab": {
          "base_uri": "https://localhost:8080/"
        },
        "outputId": "9e08722d-b647-4a80-f7fe-6d338b9ef6b3"
      },
      "execution_count": null,
      "outputs": [
        {
          "output_type": "stream",
          "name": "stdout",
          "text": [
            "Mounted at /content/drive\n"
          ]
        }
      ]
    },
    {
      "cell_type": "code",
      "execution_count": null,
      "metadata": {
        "colab": {
          "base_uri": "https://localhost:8080/"
        },
        "id": "mRKOFsHWVtBL",
        "outputId": "8fd98fd0-b599-43b5-8122-a7d46a98e711"
      },
      "outputs": [
        {
          "output_type": "stream",
          "name": "stdout",
          "text": [
            "[nltk_data] Downloading package punkt to /root/nltk_data...\n",
            "[nltk_data]   Unzipping tokenizers/punkt.zip.\n"
          ]
        }
      ],
      "source": [
        "from nltk.tokenize import word_tokenize\n",
        "from nltk import FreqDist\n",
        "\n",
        "import nltk\n",
        "\n",
        "\n",
        "nltk.download('punkt')\n",
        "\n",
        "rewiews = pd.read_csv('/content/drive/MyDrive/hh/HeadHunter_train.csv', sep = ',',error_bad_lines = False,)\n",
        "rewiews = rewiews.fillna('')\n",
        "rewiews = rewiews.sample(frac=1)\n",
        "#rewiews = rewiews[:5000]\n",
        "#positives_data = rewiews['positive']\n",
        "#negatives_data = rewiews['negative']\n",
        "#all_words=' '.join(positives_data)\n",
        "#all_words=all_words+' '+' '.join(negatives_data)\n",
        "#all_words=word_tokenize(all_words)\n",
        "#dist=FreqDist(all_words)\n",
        "#num_unique_word=len(dist)\n",
        "#num_unique_word"
      ]
    },
    {
      "cell_type": "code",
      "source": [
        "rewiews"
      ],
      "metadata": {
        "id": "-DxpGVYALyMj"
      },
      "execution_count": null,
      "outputs": []
    },
    {
      "cell_type": "code",
      "source": [
        "rewiews['text'] = 'Позитив: '+rewiews['positive']+' Негатив: '+rewiews['negative']\n",
        "rewiews"
      ],
      "metadata": {
        "colab": {
          "base_uri": "https://localhost:8080/",
          "height": 991
        },
        "id": "uia2ZxXiJoux",
        "outputId": "989a93f5-169a-4fbf-acba-103bfb866bb7"
      },
      "execution_count": null,
      "outputs": [
        {
          "output_type": "execute_result",
          "data": {
            "text/html": [
              "\n",
              "  <div id=\"df-6e0ca5aa-4399-4ff5-8c4e-b430ae72a140\">\n",
              "    <div class=\"colab-df-container\">\n",
              "      <div>\n",
              "<style scoped>\n",
              "    .dataframe tbody tr th:only-of-type {\n",
              "        vertical-align: middle;\n",
              "    }\n",
              "\n",
              "    .dataframe tbody tr th {\n",
              "        vertical-align: top;\n",
              "    }\n",
              "\n",
              "    .dataframe thead th {\n",
              "        text-align: right;\n",
              "    }\n",
              "</style>\n",
              "<table border=\"1\" class=\"dataframe\">\n",
              "  <thead>\n",
              "    <tr style=\"text-align: right;\">\n",
              "      <th></th>\n",
              "      <th>review_id</th>\n",
              "      <th>city</th>\n",
              "      <th>position</th>\n",
              "      <th>positive</th>\n",
              "      <th>negative</th>\n",
              "      <th>salary_rating</th>\n",
              "      <th>team_rating</th>\n",
              "      <th>managment_rating</th>\n",
              "      <th>career_rating</th>\n",
              "      <th>workplace_rating</th>\n",
              "      <th>rest_recovery_rating</th>\n",
              "      <th>target</th>\n",
              "      <th>text</th>\n",
              "    </tr>\n",
              "  </thead>\n",
              "  <tbody>\n",
              "    <tr>\n",
              "      <th>43398</th>\n",
              "      <td>164557</td>\n",
              "      <td>Северодвинск</td>\n",
              "      <td>Телемаркетолог</td>\n",
              "      <td>Хороший коллектив (Как повезет), удобный графи...</td>\n",
              "      <td>Северодвинск. Ужасно неадекватное начальство ф...</td>\n",
              "      <td>3</td>\n",
              "      <td>5</td>\n",
              "      <td>1</td>\n",
              "      <td>2</td>\n",
              "      <td>2</td>\n",
              "      <td>3</td>\n",
              "      <td>0</td>\n",
              "      <td>Позитив: Хороший коллектив (Как повезет), удоб...</td>\n",
              "    </tr>\n",
              "    <tr>\n",
              "      <th>1845</th>\n",
              "      <td>7037</td>\n",
              "      <td>Москва</td>\n",
              "      <td>Продавец-кассир</td>\n",
              "      <td>Идея создателей бренда)</td>\n",
              "      <td>Отношения к персоналу и заработную плату!</td>\n",
              "      <td>2</td>\n",
              "      <td>1</td>\n",
              "      <td>1</td>\n",
              "      <td>1</td>\n",
              "      <td>1</td>\n",
              "      <td>1</td>\n",
              "      <td>8</td>\n",
              "      <td>Позитив: Идея создателей бренда) Негатив: Отно...</td>\n",
              "    </tr>\n",
              "    <tr>\n",
              "      <th>7817</th>\n",
              "      <td>29643</td>\n",
              "      <td>Тверь</td>\n",
              "      <td>Логист</td>\n",
              "      <td>Всегда можно договориться об изменении рабочег...</td>\n",
              "      <td>Если убрать небольшие задержки з п, все осталь...</td>\n",
              "      <td>4</td>\n",
              "      <td>5</td>\n",
              "      <td>5</td>\n",
              "      <td>3</td>\n",
              "      <td>5</td>\n",
              "      <td>4</td>\n",
              "      <td>0</td>\n",
              "      <td>Позитив: Всегда можно договориться об изменени...</td>\n",
              "    </tr>\n",
              "    <tr>\n",
              "      <th>22879</th>\n",
              "      <td>86956</td>\n",
              "      <td>Уфа</td>\n",
              "      <td>Оператор станков с ПУ</td>\n",
              "      <td>Ничего ничего ничего ничего</td>\n",
              "      <td>Все все все все все все все все</td>\n",
              "      <td>1</td>\n",
              "      <td>1</td>\n",
              "      <td>1</td>\n",
              "      <td>1</td>\n",
              "      <td>1</td>\n",
              "      <td>1</td>\n",
              "      <td>3</td>\n",
              "      <td>Позитив: Ничего ничего ничего ничего Негатив: ...</td>\n",
              "    </tr>\n",
              "    <tr>\n",
              "      <th>7920</th>\n",
              "      <td>30012</td>\n",
              "      <td>Казань</td>\n",
              "      <td>Подработка</td>\n",
              "      <td>Своевременная зарплата</td>\n",
              "      <td>Своевременная зарплата</td>\n",
              "      <td>5</td>\n",
              "      <td>5</td>\n",
              "      <td>5</td>\n",
              "      <td>5</td>\n",
              "      <td>5</td>\n",
              "      <td>5</td>\n",
              "      <td>8</td>\n",
              "      <td>Позитив: Своевременная зарплата Негатив: Своев...</td>\n",
              "    </tr>\n",
              "    <tr>\n",
              "      <th>...</th>\n",
              "      <td>...</td>\n",
              "      <td>...</td>\n",
              "      <td>...</td>\n",
              "      <td>...</td>\n",
              "      <td>...</td>\n",
              "      <td>...</td>\n",
              "      <td>...</td>\n",
              "      <td>...</td>\n",
              "      <td>...</td>\n",
              "      <td>...</td>\n",
              "      <td>...</td>\n",
              "      <td>...</td>\n",
              "      <td>...</td>\n",
              "    </tr>\n",
              "    <tr>\n",
              "      <th>22076</th>\n",
              "      <td>83764</td>\n",
              "      <td>Киров</td>\n",
              "      <td>Продавец-консультант</td>\n",
              "      <td>Близость к дому рабочего места</td>\n",
              "      <td>Условия труда, распорядок дня, количество сотр...</td>\n",
              "      <td>3</td>\n",
              "      <td>3</td>\n",
              "      <td>4</td>\n",
              "      <td>3</td>\n",
              "      <td>3</td>\n",
              "      <td>3</td>\n",
              "      <td>8</td>\n",
              "      <td>Позитив: Близость к дому рабочего места Негати...</td>\n",
              "    </tr>\n",
              "    <tr>\n",
              "      <th>37051</th>\n",
              "      <td>140753</td>\n",
              "      <td>Серпухов</td>\n",
              "      <td>Старший менеджер по обслуживанию физических лиц</td>\n",
              "      <td>Как мама 2х детей маленьких, которые зачастую ...</td>\n",
              "      <td>Зарплату. Пашем за 2х, а зп еще такие маленьки...</td>\n",
              "      <td>3</td>\n",
              "      <td>5</td>\n",
              "      <td>4</td>\n",
              "      <td>3</td>\n",
              "      <td>3</td>\n",
              "      <td>4</td>\n",
              "      <td>8</td>\n",
              "      <td>Позитив: Как мама 2х детей маленьких, которые ...</td>\n",
              "    </tr>\n",
              "    <tr>\n",
              "      <th>48082</th>\n",
              "      <td>182451</td>\n",
              "      <td>Саранск</td>\n",
              "      <td>Консультант</td>\n",
              "      <td>область профессиональной деятельности - консал...</td>\n",
              "      <td>нормирование и оплата труда, нормирование и оп...</td>\n",
              "      <td>2</td>\n",
              "      <td>5</td>\n",
              "      <td>4</td>\n",
              "      <td>3</td>\n",
              "      <td>4</td>\n",
              "      <td>1</td>\n",
              "      <td>8</td>\n",
              "      <td>Позитив: область профессиональной деятельности...</td>\n",
              "    </tr>\n",
              "    <tr>\n",
              "      <th>39228</th>\n",
              "      <td>148956</td>\n",
              "      <td>Брянск</td>\n",
              "      <td>Тестировщик ПО</td>\n",
              "      <td>Слаженный и дружный коллектив</td>\n",
              "      <td>Продолжать совершенствоваться и никогда не ост...</td>\n",
              "      <td>5</td>\n",
              "      <td>5</td>\n",
              "      <td>5</td>\n",
              "      <td>5</td>\n",
              "      <td>5</td>\n",
              "      <td>5</td>\n",
              "      <td>8</td>\n",
              "      <td>Позитив: Слаженный и дружный коллектив Негатив...</td>\n",
              "    </tr>\n",
              "    <tr>\n",
              "      <th>36151</th>\n",
              "      <td>137528</td>\n",
              "      <td>Москва</td>\n",
              "      <td>Продавец-консультант</td>\n",
              "      <td>Место, где можно заработать. При этом работы д...</td>\n",
              "      <td>Вполне всё устраивало для работы</td>\n",
              "      <td>5</td>\n",
              "      <td>5</td>\n",
              "      <td>5</td>\n",
              "      <td>4</td>\n",
              "      <td>5</td>\n",
              "      <td>4</td>\n",
              "      <td>8</td>\n",
              "      <td>Позитив: Место, где можно заработать. При этом...</td>\n",
              "    </tr>\n",
              "  </tbody>\n",
              "</table>\n",
              "<p>50876 rows × 13 columns</p>\n",
              "</div>\n",
              "      <button class=\"colab-df-convert\" onclick=\"convertToInteractive('df-6e0ca5aa-4399-4ff5-8c4e-b430ae72a140')\"\n",
              "              title=\"Convert this dataframe to an interactive table.\"\n",
              "              style=\"display:none;\">\n",
              "        \n",
              "  <svg xmlns=\"http://www.w3.org/2000/svg\" height=\"24px\"viewBox=\"0 0 24 24\"\n",
              "       width=\"24px\">\n",
              "    <path d=\"M0 0h24v24H0V0z\" fill=\"none\"/>\n",
              "    <path d=\"M18.56 5.44l.94 2.06.94-2.06 2.06-.94-2.06-.94-.94-2.06-.94 2.06-2.06.94zm-11 1L8.5 8.5l.94-2.06 2.06-.94-2.06-.94L8.5 2.5l-.94 2.06-2.06.94zm10 10l.94 2.06.94-2.06 2.06-.94-2.06-.94-.94-2.06-.94 2.06-2.06.94z\"/><path d=\"M17.41 7.96l-1.37-1.37c-.4-.4-.92-.59-1.43-.59-.52 0-1.04.2-1.43.59L10.3 9.45l-7.72 7.72c-.78.78-.78 2.05 0 2.83L4 21.41c.39.39.9.59 1.41.59.51 0 1.02-.2 1.41-.59l7.78-7.78 2.81-2.81c.8-.78.8-2.07 0-2.86zM5.41 20L4 18.59l7.72-7.72 1.47 1.35L5.41 20z\"/>\n",
              "  </svg>\n",
              "      </button>\n",
              "      \n",
              "  <style>\n",
              "    .colab-df-container {\n",
              "      display:flex;\n",
              "      flex-wrap:wrap;\n",
              "      gap: 12px;\n",
              "    }\n",
              "\n",
              "    .colab-df-convert {\n",
              "      background-color: #E8F0FE;\n",
              "      border: none;\n",
              "      border-radius: 50%;\n",
              "      cursor: pointer;\n",
              "      display: none;\n",
              "      fill: #1967D2;\n",
              "      height: 32px;\n",
              "      padding: 0 0 0 0;\n",
              "      width: 32px;\n",
              "    }\n",
              "\n",
              "    .colab-df-convert:hover {\n",
              "      background-color: #E2EBFA;\n",
              "      box-shadow: 0px 1px 2px rgba(60, 64, 67, 0.3), 0px 1px 3px 1px rgba(60, 64, 67, 0.15);\n",
              "      fill: #174EA6;\n",
              "    }\n",
              "\n",
              "    [theme=dark] .colab-df-convert {\n",
              "      background-color: #3B4455;\n",
              "      fill: #D2E3FC;\n",
              "    }\n",
              "\n",
              "    [theme=dark] .colab-df-convert:hover {\n",
              "      background-color: #434B5C;\n",
              "      box-shadow: 0px 1px 3px 1px rgba(0, 0, 0, 0.15);\n",
              "      filter: drop-shadow(0px 1px 2px rgba(0, 0, 0, 0.3));\n",
              "      fill: #FFFFFF;\n",
              "    }\n",
              "  </style>\n",
              "\n",
              "      <script>\n",
              "        const buttonEl =\n",
              "          document.querySelector('#df-6e0ca5aa-4399-4ff5-8c4e-b430ae72a140 button.colab-df-convert');\n",
              "        buttonEl.style.display =\n",
              "          google.colab.kernel.accessAllowed ? 'block' : 'none';\n",
              "\n",
              "        async function convertToInteractive(key) {\n",
              "          const element = document.querySelector('#df-6e0ca5aa-4399-4ff5-8c4e-b430ae72a140');\n",
              "          const dataTable =\n",
              "            await google.colab.kernel.invokeFunction('convertToInteractive',\n",
              "                                                     [key], {});\n",
              "          if (!dataTable) return;\n",
              "\n",
              "          const docLinkHtml = 'Like what you see? Visit the ' +\n",
              "            '<a target=\"_blank\" href=https://colab.research.google.com/notebooks/data_table.ipynb>data table notebook</a>'\n",
              "            + ' to learn more about interactive tables.';\n",
              "          element.innerHTML = '';\n",
              "          dataTable['output_type'] = 'display_data';\n",
              "          await google.colab.output.renderOutput(dataTable, element);\n",
              "          const docLink = document.createElement('div');\n",
              "          docLink.innerHTML = docLinkHtml;\n",
              "          element.appendChild(docLink);\n",
              "        }\n",
              "      </script>\n",
              "    </div>\n",
              "  </div>\n",
              "  "
            ],
            "text/plain": [
              "       review_id  ...                                               text\n",
              "43398     164557  ...  Позитив: Хороший коллектив (Как повезет), удоб...\n",
              "1845        7037  ...  Позитив: Идея создателей бренда) Негатив: Отно...\n",
              "7817       29643  ...  Позитив: Всегда можно договориться об изменени...\n",
              "22879      86956  ...  Позитив: Ничего ничего ничего ничего Негатив: ...\n",
              "7920       30012  ...  Позитив: Своевременная зарплата Негатив: Своев...\n",
              "...          ...  ...                                                ...\n",
              "22076      83764  ...  Позитив: Близость к дому рабочего места Негати...\n",
              "37051     140753  ...  Позитив: Как мама 2х детей маленьких, которые ...\n",
              "48082     182451  ...  Позитив: область профессиональной деятельности...\n",
              "39228     148956  ...  Позитив: Слаженный и дружный коллектив Негатив...\n",
              "36151     137528  ...  Позитив: Место, где можно заработать. При этом...\n",
              "\n",
              "[50876 rows x 13 columns]"
            ]
          },
          "metadata": {},
          "execution_count": 38
        }
      ]
    },
    {
      "cell_type": "code",
      "source": [
        "def target_list(ser):\n",
        "  rez = np.zeros(9)\n",
        "  for ind in ser.split(\",\"):\n",
        "    rez[int(ind)] = 1\n",
        "  return rez\n",
        "#target = rewiews['target'].apply(target_list)\n",
        "#full_target = np.array(target.to_list())\n"
      ],
      "metadata": {
        "id": "zDrIS2DsXmKx"
      },
      "execution_count": null,
      "outputs": []
    },
    {
      "cell_type": "code",
      "source": [
        "full_target.shape"
      ],
      "metadata": {
        "id": "C_1uOKv0D-0F",
        "colab": {
          "base_uri": "https://localhost:8080/"
        },
        "outputId": "f6ea1921-65fa-44b0-c921-e16d924bb935"
      },
      "execution_count": null,
      "outputs": [
        {
          "output_type": "execute_result",
          "data": {
            "text/plain": [
              "(50876, 8)"
            ]
          },
          "metadata": {},
          "execution_count": 33
        }
      ]
    },
    {
      "cell_type": "code",
      "source": [
        "full_target"
      ],
      "metadata": {
        "colab": {
          "base_uri": "https://localhost:8080/"
        },
        "id": "3q5Met2GoFhA",
        "outputId": "79ad1a37-a24b-43eb-9aec-d0eedc8402a0"
      },
      "execution_count": null,
      "outputs": [
        {
          "output_type": "execute_result",
          "data": {
            "text/plain": [
              "array([[0., 0., 0., ..., 0., 0., 0.],\n",
              "       [0., 0., 0., ..., 0., 0., 1.],\n",
              "       [0., 0., 0., ..., 0., 0., 0.],\n",
              "       ...,\n",
              "       [0., 0., 0., ..., 0., 0., 1.],\n",
              "       [0., 0., 0., ..., 0., 0., 1.],\n",
              "       [0., 0., 0., ..., 0., 0., 1.]])"
            ]
          },
          "metadata": {},
          "execution_count": 34
        }
      ]
    },
    {
      "cell_type": "code",
      "source": [
        "num_classes = 8\n",
        "def target_list(ser):\n",
        "  rez = np.zeros(num_classes)\n",
        "  for ind in ser.split(\",\"):\n",
        "    if ind!='0':\n",
        "      rez[int(ind)-1] = 1\n",
        "    #rez[int(ind)] = 1\n",
        "  return rez\n",
        "target = rewiews['target'].apply(target_list)\n",
        "full_target = np.array(target.to_list())\n",
        "full_target"
      ],
      "metadata": {
        "id": "LiLn193nbVML",
        "colab": {
          "base_uri": "https://localhost:8080/"
        },
        "outputId": "49644d95-a6ee-4dec-932d-a207b16b2aed"
      },
      "execution_count": null,
      "outputs": [
        {
          "output_type": "execute_result",
          "data": {
            "text/plain": [
              "array([[0., 0., 0., ..., 0., 0., 0.],\n",
              "       [0., 0., 0., ..., 0., 0., 1.],\n",
              "       [0., 0., 0., ..., 0., 0., 0.],\n",
              "       ...,\n",
              "       [0., 0., 0., ..., 0., 0., 1.],\n",
              "       [0., 0., 0., ..., 0., 0., 1.],\n",
              "       [0., 0., 0., ..., 0., 0., 1.]])"
            ]
          },
          "metadata": {},
          "execution_count": 4
        }
      ]
    },
    {
      "cell_type": "code",
      "source": [
        "def target_list(ser):\n",
        " # print(ser)\n",
        "  rez = []\n",
        "  #rez[int(ser)] = 1\n",
        "  for ind in ser.split(\",\"):\n",
        "    #rez[int(ind)] = 1/len(ser.split(\",\"))\n",
        "    rez+=[float(ind)]\n",
        "   # print(1/len(ser.split(\",\")))\n",
        "   # print(rez[int(ind)])\n",
        "   #data_tensor = tf.ragged.constant(data)\n",
        "  return np.array(rez)\n",
        "#target = rewiews['target'].apply(target_list)\n",
        "#full_target = target.to_list()\n",
        "#full_target"
      ],
      "metadata": {
        "id": "lsdJWs4n9LPF"
      },
      "execution_count": null,
      "outputs": []
    },
    {
      "cell_type": "code",
      "execution_count": null,
      "metadata": {
        "id": "jsJ-KWA0WN9y"
      },
      "outputs": [],
      "source": [
        "from keras.preprocessing.text import Tokenizer\n",
        "#VOCAB_SIZE = 80000 \n",
        "#tokenizer_main = Tokenizer(num_words=VOCAB_SIZE)\n",
        "#tokenizer_main.fit_on_texts(list(positives_data)+list(negatives_data))\n",
        "#Posi_train = tokenizer_main.texts_to_sequences(positives_data)\n",
        "#Nega_train = tokenizer_main.texts_to_sequences(negatives_data)"
      ]
    },
    {
      "cell_type": "code",
      "execution_count": null,
      "metadata": {
        "id": "0i7xS_myR7BG"
      },
      "outputs": [],
      "source": [
        "city_data = rewiews['city']\n",
        "all_words=' '.join(city_data)\n",
        "all_words=word_tokenize(all_words)\n",
        "dist=FreqDist(all_words)\n",
        "VOCAB_SIZE_CITIES =len(dist)\n",
        "\n",
        "position_data = rewiews['position']\n",
        "all_words=' '.join(position_data)\n",
        "all_words=word_tokenize(all_words)\n",
        "dist=FreqDist(all_words)\n",
        "VOCAB_SIZE_POSITIONS =len(dist)"
      ]
    },
    {
      "cell_type": "code",
      "execution_count": null,
      "metadata": {
        "id": "NKyMX_vsScrZ"
      },
      "outputs": [],
      "source": [
        "tokenizer_city = Tokenizer(num_words=VOCAB_SIZE_CITIES)\n",
        "tokenizer_city.fit_on_texts(list(city_data))\n",
        "City_train = tokenizer_city.texts_to_sequences(city_data)\n",
        "\n",
        "\n",
        "tokenizer_position = Tokenizer(num_words=VOCAB_SIZE_POSITIONS)\n",
        "tokenizer_position.fit_on_texts(list(position_data))\n",
        "Position_train = tokenizer_position.texts_to_sequences(position_data)"
      ]
    },
    {
      "cell_type": "code",
      "source": [
        "from keras.preprocessing import sequence,text\n",
        "MAX_SEQ_LEN = 100\n",
        "#full_posi_train_data = sequence.pad_sequences(Posi_train, \n",
        "#                                    padding='post',\n",
        "#                                    maxlen=MAX_SEQ_LEN)\n",
        "#full_nega_train_data = sequence.pad_sequences(Nega_train, \n",
        "#                                    padding='post',\n",
        "#                                    maxlen=MAX_SEQ_LEN)\n",
        "\n",
        "full_city_train_data = sequence.pad_sequences(City_train, \n",
        "                                    padding='post',\n",
        "                                    maxlen=5)\n",
        "full_position_train_data = sequence.pad_sequences(Position_train, \n",
        "                                    padding='post',\n",
        "                                    maxlen=35)\n",
        "\n",
        "full_scores_train_data = rewiews[['salary_rating','team_rating','managment_rating','career_rating','workplace_rating','rest_recovery_rating']]\n",
        "full_scores_train_data = np.array(full_scores_train_data)"
      ],
      "metadata": {
        "id": "u6R_d2k2qVEy"
      },
      "execution_count": null,
      "outputs": []
    },
    {
      "cell_type": "code",
      "source": [
        "AUTOTUNE = tf.data.AUTOTUNE\n",
        "BATCH_SIZE = 129\n",
        "seed = 42\n",
        "dropout_rate = 0.1\n",
        "#full_posi_train_data = tf.data.Dataset.from_tensor_slices(((rewiews['positive'],rewiews['negative']),full_target))\n",
        "#full_nega_train_data = tf.data.Dataset.from_tensor_slices(rewiews['negative'])\n",
        "#target = tf.data.Dataset.from_tensor_slices(full_target)\n",
        "#{'image_input': x_train, 'label_input': y_train},\n",
        "full_ds = tf.data.Dataset.from_tensor_slices(({'text':rewiews['text'],'cities':full_city_train_data,'positions':full_position_train_data,'scores':full_scores_train_data},full_target))\n",
        "full_ds = full_ds.shuffle(60000, seed=seed)\n",
        "#train_ds = train_ds.cache().prefetch(buffer_size=AUTOTUNE)\n",
        "train_ds = full_ds.take(50000).batch(BATCH_SIZE)\n",
        "val_ds = full_ds.skip(50000).batch(BATCH_SIZE)"
      ],
      "metadata": {
        "id": "nPt_kwryQqKM"
      },
      "execution_count": null,
      "outputs": []
    },
    {
      "cell_type": "code",
      "source": [
        "train_ds"
      ],
      "metadata": {
        "colab": {
          "base_uri": "https://localhost:8080/"
        },
        "id": "k8m8r5dZdg-u",
        "outputId": "53a04be7-4a13-4fe7-f944-c9e2cf02d773"
      },
      "execution_count": null,
      "outputs": [
        {
          "output_type": "execute_result",
          "data": {
            "text/plain": [
              "<BatchDataset shapes: ({text: (None,), cities: (None, 5), positions: (None, 35), scores: (None, 6)}, (None, 8)), types: ({text: tf.string, cities: tf.int32, positions: tf.int32, scores: tf.int64}, tf.float64)>"
            ]
          },
          "metadata": {},
          "execution_count": 40
        }
      ]
    },
    {
      "cell_type": "code",
      "source": [
        "\n",
        "bert_model_name = 'small_bert/bert_en_uncased_L-4_H-512_A-8'\n",
        "tfhub_handle_encoder =  'https://tfhub.dev/tensorflow/small_bert/bert_en_uncased_L-4_H-512_A-8/1'\n",
        "tfhub_handle_preprocess = 'https://tfhub.dev/tensorflow/bert_en_uncased_preprocess/3'\n",
        "bert_model_name = 'small_bert/bert_en_uncased_L-8_H-256_A-4'\n",
        "tfhub_handle_encoder =  'https://tfhub.dev/tensorflow/small_bert/bert_en_uncased_L-8_H-256_A-4/2'\n",
        "tfhub_handle_preprocess = 'https://tfhub.dev/tensorflow/bert_en_uncased_preprocess/3'\n",
        "bert_model_name = 'bert_multi_cased_L-12_H-768_A-12'\n",
        "tfhub_handle_encoder =  'https://tfhub.dev/tensorflow/bert_multi_cased_L-12_H-768_A-12/4'\n",
        "tfhub_handle_preprocess = 'https://tfhub.dev/tensorflow/bert_multi_cased_preprocess/3'\n",
        "#bert_preprocess_model = hub.KerasLayer(tfhub_handle_preprocess)\n",
        "#bert_model = hub.KerasLayer(tfhub_handle_encoder)"
      ],
      "metadata": {
        "id": "X7Ih8o3H8z6x"
      },
      "execution_count": null,
      "outputs": []
    },
    {
      "cell_type": "code",
      "source": [
        "def build_classifier_model():\n",
        "  text_input = tf.keras.layers.Input(shape=(), dtype=tf.string, name='positives')\n",
        "  preprocessing_layer = hub.KerasLayer(tfhub_handle_preprocess, name='preprocessing')\n",
        "  encoder_inputs = preprocessing_layer(text_input)\n",
        "  encoder = hub.KerasLayer(tfhub_handle_encoder, trainable=False, name='BERT_encoder')\n",
        "  outputs = encoder(encoder_inputs)\n",
        "  net = outputs['sequence_output']\n",
        "  net = tf.keras.layers.Dropout(0.1)(net)\n",
        "  #net = tf.keras.layers.Dense(768, activation='sigmoid')(net)\n",
        "  net = tf.keras.layers.Flatten()(net)\n",
        "  net = tf.keras.layers.Dense(9, activation=None, name='classifier')(net)\n",
        "  return tf.keras.Model(text_input, net)\n",
        "model = build_classifier_model()"
      ],
      "metadata": {
        "id": "TRYqVUD_WyuP"
      },
      "execution_count": null,
      "outputs": []
    },
    {
      "cell_type": "code",
      "source": [
        "tfhub_handle_encoder"
      ],
      "metadata": {
        "colab": {
          "base_uri": "https://localhost:8080/",
          "height": 35
        },
        "id": "N2ZK3eV2-ZEU",
        "outputId": "ecbeb8ac-a993-4e6f-c7e6-40d2f06d527a"
      },
      "execution_count": null,
      "outputs": [
        {
          "output_type": "execute_result",
          "data": {
            "application/vnd.google.colaboratory.intrinsic+json": {
              "type": "string"
            },
            "text/plain": [
              "'https://tfhub.dev/tensorflow/small_bert/bert_en_uncased_L-8_H-256_A-4/2'"
            ]
          },
          "metadata": {},
          "execution_count": 92
        }
      ]
    },
    {
      "cell_type": "code",
      "source": [
        "text_input = tf.keras.layers.Input(shape=(), dtype=tf.string)\n",
        "preprocessor = hub.KerasLayer(\n",
        "    \"https://tfhub.dev/tensorflow/bert_multi_cased_preprocess/3\")\n",
        "encoder_inputs = preprocessor(text_input)\n",
        "encoder = hub.KerasLayer(\n",
        "    \"https://tfhub.dev/tensorflow/bert_multi_cased_L-12_H-768_A-12/4\",\n",
        "    trainable=True)\n",
        "outputs = encoder(encoder_inputs)\n",
        "pooled_output = outputs[\"pooled_output\"]      # [batch_size, 768].\n",
        "sequence_output = outputs[\"sequence_output\"]  # [batch_size, seq_length, 768]."
      ],
      "metadata": {
        "id": "_Y_9Porw95KU"
      },
      "execution_count": null,
      "outputs": []
    },
    {
      "cell_type": "code",
      "source": [
        "embedding_model = tf.keras.Model(text_input, pooled_output)\n",
        "sentences = tf.constant([\"Недавно устроился в ****** на должность кладовщика. Коллектив дружный и приветливый к новичкам - во всем помогают и поддерживают.\"])\n",
        "print(embedding_model(sentences))"
      ],
      "metadata": {
        "id": "tiw7Zum0-MAr"
      },
      "execution_count": null,
      "outputs": []
    },
    {
      "cell_type": "code",
      "source": [
        "class Cities(tf.keras.Model):\n",
        "    def __init__(self):\n",
        "        super().__init__()\n",
        "        self.embedding = tf.keras.layers.Embedding(VOCAB_SIZE_CITIES,8,input_length = 5)\n",
        "        self.lstm = tf.keras.layers.Bidirectional(tf.keras.layers.LSTM(32,dropout=dropout_rate, recurrent_dropout=0.0,return_sequences=False))\n",
        "\n",
        "    def call(self, inp, is_training=False):\n",
        "        out = self.embedding(inp)\n",
        "        out = self.lstm(out)\n",
        "        return out\n",
        "\n",
        "class Positions(tf.keras.Model):\n",
        "    def __init__(self):\n",
        "        super().__init__()\n",
        "        self.embedding = tf.keras.layers.Embedding(VOCAB_SIZE_POSITIONS,16,input_length = 35,)\n",
        "        self.lstm = tf.keras.layers.Bidirectional(tf.keras.layers.LSTM(32,dropout=dropout_rate, recurrent_dropout=0.0,return_sequences=False))\n",
        "\n",
        "    def call(self, inp, is_training=False):\n",
        "        #print('Positions',inp)\n",
        "        out = self.embedding(inp)\n",
        "        #print('Positions',out)\n",
        "        out = self.lstm(out)\n",
        "        return out\n",
        "\n",
        "class Positives(tf.keras.Model):\n",
        "    def __init__(self):\n",
        "        super().__init__()\n",
        "        self.text_input = tf.keras.layers.Input(shape=(), dtype=tf.string, name='positives')\n",
        "        self.preprocessing_layer = hub.KerasLayer(tfhub_handle_preprocess, name='Positives_preprocessing')\n",
        "\n",
        "    def call(self, inp, is_training=False):\n",
        "        #print('Positives inp',inp)\n",
        "        out = self.text_input(inp)\n",
        "        return out\n",
        "\n",
        "class Negatives(tf.keras.Model):\n",
        "    def __init__(self):\n",
        "        super().__init__()\n",
        "        self.text_input = tf.keras.layers.Input(shape=(), dtype=tf.string, name='positives')\n",
        "        self.preprocessing_layer = hub.KerasLayer(tfhub_handle_preprocess, name='Negatives_preprocessing')\n",
        "\n",
        "    def call(self, inp, is_training=False):\n",
        "        out = self.text_input(inp)\n",
        "        return out\n",
        "\n",
        "class Bert(tf.keras.Model):\n",
        "    def __init__(self):\n",
        "        super().__init__()\n",
        "        self.preprocessing_layer = hub.KerasLayer(tfhub_handle_preprocess, name='text_preprocessing')\n",
        "        self.encoder = hub.KerasLayer(tfhub_handle_encoder, trainable=False, name='text_BERT_encoder')\n",
        "        self.dropout = tf.keras.layers.Dropout(dropout_rate)\n",
        "        self.flatten = tf.keras.layers.Flatten()\n",
        "\n",
        "    def call(self, inp, is_training=False):\n",
        "        out = self.preprocessing_layer(inp)\n",
        "        out = self.encoder(out)\n",
        "        out = self.dropout(out['sequence_output'])\n",
        "        out = self.flatten(out)\n",
        "        return out\n",
        "\n",
        "class Scores(tf.keras.Model):\n",
        "    def __init__(self):\n",
        "        #print('Scores init')\n",
        "        super().__init__()\n",
        "        self.input_layer = tf.keras.layers.InputLayer(input_shape=(7,1))\n",
        "        self.dense1 = tf.keras.layers.Dense(256,activation='sigmoid')\n",
        "        self.dense2 = tf.keras.layers.Dense(128,activation='sigmoid')\n",
        "        self.dense3 = tf.keras.layers.Dense(32,activation='sigmoid')\n",
        "        self.drop1 = tf.keras.layers.Dropout(dropout_rate)\n",
        "        self.drop2 = tf.keras.layers.Dropout(dropout_rate)\n",
        "    def call(self, inp, is_training=False):\n",
        "        #print('Scores call, input: ',inp)\n",
        "        out = self.input_layer(inp)\n",
        "        #print('Scores call, out: ',out)\n",
        "        \n",
        "        out = self.dense1(out)\n",
        "        out = self.drop1(out)\n",
        "        out = self.dense2(out)\n",
        "        out = self.drop2(out)\n",
        "        out = self.dense3(out)\n",
        "        return out\n",
        "\n",
        "class FiveHeadNet(tf.keras.Model):\n",
        "    def __init__(self):\n",
        "        super().__init__()\n",
        "        self.posi = Positives()\n",
        "        self.nega = Negatives()\n",
        "        self.bert = Bert()\n",
        "        self.scor = Scores()\n",
        "        self.city = Cities()\n",
        "        self.pos = Positions()\n",
        "        #self.dense = tf.keras.layers.Dense(160,activation=None)\n",
        "        self.out = tf.keras.layers.Dense(num_classes,activation=None, name='classifier')\n",
        "\n",
        "    def call(self, inp):\n",
        "\n",
        "        out_bert = self.bert(inp['text'])\n",
        "        out_pos = self.pos(inp['positions'])\n",
        "        out_s = self.scor(inp['scores'])\n",
        "        out_c = self.city(inp['cities'])\n",
        "        out = tf.concat([out_bert, out_s,out_c,out_pos], axis=1)\n",
        "        #out = tf.concat([out_p, out_n, out_s], axis=1)\n",
        "        #out = self.dense(out)\n",
        "        out = self.out(out)\n",
        "        #print('out')\n",
        "        return out\n",
        "\n",
        "metric = tfa.metrics.FBetaScore(num_classes=9)\n",
        "\n",
        "model = FiveHeadNet()\n"
      ],
      "metadata": {
        "id": "AuijEY4soiPp"
      },
      "execution_count": null,
      "outputs": []
    },
    {
      "cell_type": "code",
      "source": [
        "mnist = tf.keras.datasets.mnist\n",
        "\n",
        "(x_train, y_train), (x_test, y_test) = mnist.load_data()\n",
        "y_train[4]"
      ],
      "metadata": {
        "colab": {
          "base_uri": "https://localhost:8080/"
        },
        "id": "e41ceRyPRuf3",
        "outputId": "797a2e00-bad2-41aa-b568-2dc34de2eeb5"
      },
      "execution_count": null,
      "outputs": [
        {
          "output_type": "execute_result",
          "data": {
            "text/plain": [
              "9"
            ]
          },
          "metadata": {},
          "execution_count": 22
        }
      ]
    },
    {
      "cell_type": "code",
      "source": [
        "#loss = tf.keras.losses.SparseCategoricalCrossentropy(from_logits=True)\n",
        "loss = tf.keras.losses.BinaryCrossentropy(from_logits=True)\n",
        "\n",
        "#metrics = tf.metrics.BinaryAccuracy()\n",
        "metric = tfa.metrics.FBetaScore(num_classes=num_classes)\n"
      ],
      "metadata": {
        "id": "qTuHHaOXW51T"
      },
      "execution_count": null,
      "outputs": []
    },
    {
      "cell_type": "code",
      "source": [
        "epochs = 10\n",
        "steps_per_epoch = tf.data.experimental.cardinality(train_ds).numpy()\n",
        "num_train_steps = steps_per_epoch * epochs\n",
        "num_warmup_steps = int(0.1*num_train_steps)\n",
        "\n",
        "init_lr = 3e-5\n",
        "optimizer = optimization.create_optimizer(init_lr=init_lr,\n",
        "                                          num_train_steps=num_train_steps,\n",
        "                                          num_warmup_steps=num_warmup_steps,\n",
        "                                          optimizer_type='adamw')\n",
        "optimizer=tf.keras.optimizers.Adam(learning_rate=init_lr)"
      ],
      "metadata": {
        "id": "FSP9RTUcXLQd"
      },
      "execution_count": null,
      "outputs": []
    },
    {
      "cell_type": "code",
      "source": [
        "model.compile(optimizer=optimizer,\n",
        "                         loss=loss,\n",
        "                         metrics=(metric,'accuracy'))"
      ],
      "metadata": {
        "id": "kW__fmM3XVks"
      },
      "execution_count": null,
      "outputs": []
    },
    {
      "cell_type": "code",
      "source": [
        "for text_batch, label_batch in val_ds.take(1):\n",
        "  print(text_batch['negatives'][0])\n",
        "  print(f'Label : {label_batch[0]}')"
      ],
      "metadata": {
        "colab": {
          "base_uri": "https://localhost:8080/"
        },
        "id": "kjoHMB1LM_4u",
        "outputId": "c5b8fc77-9839-4fb5-9482-c686a8d55273"
      },
      "execution_count": null,
      "outputs": [
        {
          "output_type": "stream",
          "name": "stdout",
          "text": [
            "tf.Tensor(b'\\xd0\\x9d\\xd0\\xb8\\xd1\\x87\\xd0\\xb5\\xd0\\xb3\\xd0\\xbe \\xd1\\x85\\xd0\\xbe\\xd1\\x80\\xd0\\xbe\\xd1\\x88\\xd0\\xb5\\xd0\\xb3\\xd0\\xbe \\xd1\\x82\\xd0\\xb0\\xd0\\xbc \\xd0\\xbd\\xd0\\xb5 \\xd0\\xb1\\xd1\\x8b\\xd0\\xbb\\xd0\\xbe', shape=(), dtype=string)\n",
            "Label : [0. 0. 0. 0. 0. 0. 0. 1.]\n"
          ]
        }
      ]
    },
    {
      "cell_type": "code",
      "source": [
        "model.load_weights('/content/drive/MyDrive/hh/model.weights')"
      ],
      "metadata": {
        "id": "7RHTySlkox2Z",
        "colab": {
          "base_uri": "https://localhost:8080/"
        },
        "outputId": "2e924311-c046-4823-c29c-b434d9dce6f4"
      },
      "execution_count": null,
      "outputs": [
        {
          "output_type": "execute_result",
          "data": {
            "text/plain": [
              "<tensorflow.python.training.tracking.util.CheckpointLoadStatus at 0x7ff6fa8c79d0>"
            ]
          },
          "metadata": {},
          "execution_count": 16
        }
      ]
    },
    {
      "cell_type": "code",
      "source": [
        "print(f'Training model with {tfhub_handle_encoder}')\n",
        "last_epoch = 1\n",
        "for i in range(last_epoch,last_epoch+10):\n",
        "  print('epoch',last_epoch)\n",
        "  history = model.fit(#rewiews['positive'],#\n",
        "                    train_ds,\n",
        "                    validation_data = val_ds,\n",
        "                    #full_target,\n",
        "                    #validation_data = ([posi_val_data,nega_val_data,scores_val_data,city_val_data,position_val_data],target_val),\n",
        "                    epochs=1,\n",
        "                    #batch_size=BATCH_SIZE,\n",
        "                    #verbose=1,\n",
        "                    #validation_split=0.15,\n",
        "                    #steps_per_epoch=20\n",
        "                    )\n",
        "  model.save_weights('/content/drive/MyDrive/hh/model.weights')\n",
        "#loss: 0.0536 - fbeta_score: 0.8603 - accuracy: 0.8933\n",
        "#loss: 0.0480 - fbeta_score: 0.8869 - accuracy: 0.9054\n",
        "#loss: 0.0455 - fbeta_score: 0.8933 - accuracy: 0.9102\n",
        "#loss: 0.0404 - fbeta_score: 0.9028 - accuracy: 0.9211\n",
        "#loss: 0.0401 - fbeta_score: 0.9133 - accuracy: 0.9226\n",
        "#388/388 [==============================] - 2279s 6s/step - loss: 0.0707 - fbeta_score: 0.4478 - accuracy: 0.5478 - val_loss: 0.0606 - val_fbeta_score: 0.4368 - val_accuracy: 0.5217\n",
        "#epoch 7 388/388 [==============================] - 1249s 3s/step - loss: 0.0619 - fbeta_score: 0.5408 - accuracy: 0.5703 - val_loss: 0.0589 - val_fbeta_score: 0.5358 - val_accuracy: 0.5696\n"
      ],
      "metadata": {
        "colab": {
          "base_uri": "https://localhost:8080/"
        },
        "id": "8zgsInWnXXR3",
        "outputId": "c9624522-710e-4b2e-e537-808b00eecd93"
      },
      "execution_count": null,
      "outputs": [
        {
          "output_type": "stream",
          "name": "stdout",
          "text": [
            "Training model with https://tfhub.dev/tensorflow/bert_multi_cased_L-12_H-768_A-12/4\n",
            "388/388 [==============================] - 1303s 3s/step - loss: 0.1103 - fbeta_score: 0.1692 - accuracy: 0.5378 - val_loss: 0.0941 - val_fbeta_score: 0.2084 - val_accuracy: 0.5285\n",
            "388/388 [==============================] - 1253s 3s/step - loss: 0.0902 - fbeta_score: 0.2048 - accuracy: 0.5378 - val_loss: 0.0874 - val_fbeta_score: 0.2697 - val_accuracy: 0.5103\n",
            "388/388 [==============================] - 1246s 3s/step - loss: 0.0828 - fbeta_score: 0.2423 - accuracy: 0.5453 - val_loss: 0.0725 - val_fbeta_score: 0.2956 - val_accuracy: 0.5126\n",
            "388/388 [==============================] - 1252s 3s/step - loss: 0.0771 - fbeta_score: 0.3023 - accuracy: 0.5519 - val_loss: 0.0765 - val_fbeta_score: 0.4204 - val_accuracy: 0.5628\n",
            "388/388 [==============================] - 1265s 3s/step - loss: 0.0723 - fbeta_score: 0.3657 - accuracy: 0.5596 - val_loss: 0.0722 - val_fbeta_score: 0.3510 - val_accuracy: 0.5160\n",
            "388/388 [==============================] - 1271s 3s/step - loss: 0.0685 - fbeta_score: 0.4333 - accuracy: 0.5643 - val_loss: 0.0641 - val_fbeta_score: 0.4485 - val_accuracy: 0.5479\n",
            "388/388 [==============================] - 1245s 3s/step - loss: 0.0649 - fbeta_score: 0.5069 - accuracy: 0.5664 - val_loss: 0.0649 - val_fbeta_score: 0.4754 - val_accuracy: 0.6210\n",
            "388/388 [==============================] - 1249s 3s/step - loss: 0.0619 - fbeta_score: 0.5408 - accuracy: 0.5703 - val_loss: 0.0589 - val_fbeta_score: 0.5358 - val_accuracy: 0.5696\n",
            "372/388 [===========================>..] - ETA: 50s - loss: 0.0590 - fbeta_score: 0.5697 - accuracy: 0.5709"
          ]
        }
      ]
    },
    {
      "cell_type": "code",
      "source": [
        "model.save_weights('/content/model.weights')"
      ],
      "metadata": {
        "id": "cgQVA-qorvpM"
      },
      "execution_count": null,
      "outputs": []
    },
    {
      "cell_type": "code",
      "execution_count": null,
      "metadata": {
        "id": "kvmiDXgHXKzr"
      },
      "outputs": [],
      "source": [
        "pred = model.predict(rewiews['positive'][:7])"
      ]
    },
    {
      "cell_type": "code",
      "source": [
        "pred"
      ],
      "metadata": {
        "colab": {
          "base_uri": "https://localhost:8080/"
        },
        "id": "4qWLUcV4JMvx",
        "outputId": "323a4b63-2c6b-41ee-acac-60df91764475"
      },
      "execution_count": null,
      "outputs": [
        {
          "output_type": "execute_result",
          "data": {
            "text/plain": [
              "array([[5.34477413e-01, 5.18208928e-02, 6.81548670e-04, 2.86875671e-04,\n",
              "        3.22093000e-03, 1.78014545e-03, 3.97835486e-02, 1.42840832e-03,\n",
              "        4.73960549e-01],\n",
              "       [4.05141026e-01, 1.29202362e-02, 1.32556423e-04, 2.28116708e-03,\n",
              "        1.02339662e-04, 5.84402296e-04, 1.24074733e-02, 6.68809749e-04,\n",
              "        7.34329820e-01],\n",
              "       [2.65102714e-01, 5.13456129e-02, 3.09774769e-04, 3.03705386e-03,\n",
              "        4.73944878e-04, 1.48293702e-03, 1.39532359e-02, 2.70808791e-03,\n",
              "        7.70116031e-01],\n",
              "       [2.13273212e-01, 1.69029515e-02, 6.87537889e-04, 2.77626747e-03,\n",
              "        4.06718289e-04, 1.57282525e-03, 4.31789607e-02, 3.45434900e-03,\n",
              "        7.83573210e-01],\n",
              "       [8.72026384e-01, 4.08108570e-02, 9.24536493e-03, 1.91258179e-04,\n",
              "        5.13936952e-03, 2.83363331e-02, 1.05112568e-02, 2.17615953e-03,\n",
              "        5.48029393e-02],\n",
              "       [1.00059316e-01, 1.23157771e-02, 5.41880145e-04, 1.65069755e-03,\n",
              "        4.50457679e-04, 1.66710909e-03, 1.50438296e-02, 2.26140791e-03,\n",
              "        8.91386271e-01],\n",
              "       [8.24206710e-01, 3.16223651e-02, 1.33624044e-03, 1.98355783e-03,\n",
              "        1.55418867e-03, 7.03360839e-03, 5.34065254e-02, 3.98265384e-03,\n",
              "        1.36879534e-01]], dtype=float32)"
            ]
          },
          "metadata": {},
          "execution_count": 25
        }
      ]
    },
    {
      "cell_type": "code",
      "execution_count": null,
      "metadata": {
        "id": "xSKqUvYoXdOr",
        "colab": {
          "base_uri": "https://localhost:8080/"
        },
        "outputId": "11e4233c-8d40-4a48-8bb3-14a933cc9fdf"
      },
      "outputs": [
        {
          "output_type": "execute_result",
          "data": {
            "text/plain": [
              "<tensorflow.python.training.tracking.util.CheckpointLoadStatus at 0x7f3adc37f790>"
            ]
          },
          "metadata": {},
          "execution_count": 61
        }
      ],
      "source": [
        "model.load_weights('/content/model.weights')"
      ]
    },
    {
      "cell_type": "code",
      "source": [
        "for text_batch in test_ds.take(1):\n",
        "  print(text_batch['negatives'])"
      ],
      "metadata": {
        "id": "6rXftTfoUksR"
      },
      "execution_count": null,
      "outputs": []
    },
    {
      "cell_type": "code",
      "execution_count": null,
      "metadata": {
        "id": "OzJ8XOyqxFWX",
        "colab": {
          "base_uri": "https://localhost:8080/"
        },
        "outputId": "3f17b6e2-ca0f-44ef-e1c8-76634eab7b28"
      },
      "outputs": [
        {
          "output_type": "stream",
          "name": "stdout",
          "text": [
            "Positives inp Tensor(\"IteratorGetNext:3\", shape=(None,), dtype=string)\n",
            "Positives out Tensor(\"five_head_net/positives/flatten/Reshape:0\", shape=(None, 98304), dtype=float32)\n"
          ]
        }
      ],
      "source": [
        "pred_test = model.predict(test_ds)"
      ]
    },
    {
      "cell_type": "code",
      "source": [
        "def tostr(lis):\n",
        "  ret = []\n",
        "  for i in range(9):\n",
        "    if lis[i]>=0.5:\n",
        "      ret+=[i]\n",
        "  if len(ret) == 0:\n",
        "    return(str(np.argmax(lis)))\n",
        "    #return '0'\n",
        "  else:\n",
        "    return ','.join(map(str, ret))\n",
        "tostr(pred_test[33])"
      ],
      "metadata": {
        "colab": {
          "base_uri": "https://localhost:8080/",
          "height": 35
        },
        "id": "EGg0XyfFFITE",
        "outputId": "ec5a7256-2151-4b75-fb21-e5fb95760b2b"
      },
      "execution_count": null,
      "outputs": [
        {
          "output_type": "execute_result",
          "data": {
            "application/vnd.google.colaboratory.intrinsic+json": {
              "type": "string"
            },
            "text/plain": [
              "'8'"
            ]
          },
          "metadata": {},
          "execution_count": 54
        }
      ]
    },
    {
      "cell_type": "code",
      "execution_count": null,
      "metadata": {
        "id": "kQ-m-9KSzHYa"
      },
      "outputs": [],
      "source": [
        "formatted_predictions = []\n",
        "pred_test_copy = pred_test.copy()\n",
        "for prediction in pred_test_copy:\n",
        "  #print(prediction)\n",
        "  #print(tostr(prediction))\n",
        "  formatted_predictions+=[tostr(prediction)]"
      ]
    },
    {
      "cell_type": "code",
      "execution_count": null,
      "metadata": {
        "id": "Nj9t9-Vq7C0w"
      },
      "outputs": [],
      "source": [
        "final = pd.DataFrame(formatted_predictions)\n",
        "final['review_id'] = test_rewiews['review_id']\n",
        "final.columns = ['target','review_id']\n",
        "\n",
        "final[['review_id','target']].to_csv('/content/final.csv', index=False)#, escapechar = '\"',quoting=csv.QUOTE_MINIMAL)"
      ]
    },
    {
      "cell_type": "code",
      "execution_count": null,
      "metadata": {
        "id": "1CKW7C5R6lWS",
        "colab": {
          "base_uri": "https://localhost:8080/",
          "height": 424
        },
        "outputId": "3a5ec5ab-85c8-4cce-aa1a-cb2ad49d9a17"
      },
      "outputs": [
        {
          "output_type": "execute_result",
          "data": {
            "text/html": [
              "\n",
              "  <div id=\"df-4b28d4f3-2102-4806-bdd8-aaf30a407b54\">\n",
              "    <div class=\"colab-df-container\">\n",
              "      <div>\n",
              "<style scoped>\n",
              "    .dataframe tbody tr th:only-of-type {\n",
              "        vertical-align: middle;\n",
              "    }\n",
              "\n",
              "    .dataframe tbody tr th {\n",
              "        vertical-align: top;\n",
              "    }\n",
              "\n",
              "    .dataframe thead th {\n",
              "        text-align: right;\n",
              "    }\n",
              "</style>\n",
              "<table border=\"1\" class=\"dataframe\">\n",
              "  <thead>\n",
              "    <tr style=\"text-align: right;\">\n",
              "      <th></th>\n",
              "      <th>target</th>\n",
              "      <th>review_id</th>\n",
              "    </tr>\n",
              "  </thead>\n",
              "  <tbody>\n",
              "    <tr>\n",
              "      <th>0</th>\n",
              "      <td>8</td>\n",
              "      <td>3</td>\n",
              "    </tr>\n",
              "    <tr>\n",
              "      <th>1</th>\n",
              "      <td>8</td>\n",
              "      <td>4</td>\n",
              "    </tr>\n",
              "    <tr>\n",
              "      <th>2</th>\n",
              "      <td>8</td>\n",
              "      <td>13</td>\n",
              "    </tr>\n",
              "    <tr>\n",
              "      <th>3</th>\n",
              "      <td>0</td>\n",
              "      <td>14</td>\n",
              "    </tr>\n",
              "    <tr>\n",
              "      <th>4</th>\n",
              "      <td>8</td>\n",
              "      <td>17</td>\n",
              "    </tr>\n",
              "    <tr>\n",
              "      <th>...</th>\n",
              "      <td>...</td>\n",
              "      <td>...</td>\n",
              "    </tr>\n",
              "    <tr>\n",
              "      <th>50646</th>\n",
              "      <td>0</td>\n",
              "      <td>192819</td>\n",
              "    </tr>\n",
              "    <tr>\n",
              "      <th>50647</th>\n",
              "      <td>0,8</td>\n",
              "      <td>192821</td>\n",
              "    </tr>\n",
              "    <tr>\n",
              "      <th>50648</th>\n",
              "      <td>1,8</td>\n",
              "      <td>192830</td>\n",
              "    </tr>\n",
              "    <tr>\n",
              "      <th>50649</th>\n",
              "      <td>1,8</td>\n",
              "      <td>192832</td>\n",
              "    </tr>\n",
              "    <tr>\n",
              "      <th>50650</th>\n",
              "      <td>0,8</td>\n",
              "      <td>192833</td>\n",
              "    </tr>\n",
              "  </tbody>\n",
              "</table>\n",
              "<p>50651 rows × 2 columns</p>\n",
              "</div>\n",
              "      <button class=\"colab-df-convert\" onclick=\"convertToInteractive('df-4b28d4f3-2102-4806-bdd8-aaf30a407b54')\"\n",
              "              title=\"Convert this dataframe to an interactive table.\"\n",
              "              style=\"display:none;\">\n",
              "        \n",
              "  <svg xmlns=\"http://www.w3.org/2000/svg\" height=\"24px\"viewBox=\"0 0 24 24\"\n",
              "       width=\"24px\">\n",
              "    <path d=\"M0 0h24v24H0V0z\" fill=\"none\"/>\n",
              "    <path d=\"M18.56 5.44l.94 2.06.94-2.06 2.06-.94-2.06-.94-.94-2.06-.94 2.06-2.06.94zm-11 1L8.5 8.5l.94-2.06 2.06-.94-2.06-.94L8.5 2.5l-.94 2.06-2.06.94zm10 10l.94 2.06.94-2.06 2.06-.94-2.06-.94-.94-2.06-.94 2.06-2.06.94z\"/><path d=\"M17.41 7.96l-1.37-1.37c-.4-.4-.92-.59-1.43-.59-.52 0-1.04.2-1.43.59L10.3 9.45l-7.72 7.72c-.78.78-.78 2.05 0 2.83L4 21.41c.39.39.9.59 1.41.59.51 0 1.02-.2 1.41-.59l7.78-7.78 2.81-2.81c.8-.78.8-2.07 0-2.86zM5.41 20L4 18.59l7.72-7.72 1.47 1.35L5.41 20z\"/>\n",
              "  </svg>\n",
              "      </button>\n",
              "      \n",
              "  <style>\n",
              "    .colab-df-container {\n",
              "      display:flex;\n",
              "      flex-wrap:wrap;\n",
              "      gap: 12px;\n",
              "    }\n",
              "\n",
              "    .colab-df-convert {\n",
              "      background-color: #E8F0FE;\n",
              "      border: none;\n",
              "      border-radius: 50%;\n",
              "      cursor: pointer;\n",
              "      display: none;\n",
              "      fill: #1967D2;\n",
              "      height: 32px;\n",
              "      padding: 0 0 0 0;\n",
              "      width: 32px;\n",
              "    }\n",
              "\n",
              "    .colab-df-convert:hover {\n",
              "      background-color: #E2EBFA;\n",
              "      box-shadow: 0px 1px 2px rgba(60, 64, 67, 0.3), 0px 1px 3px 1px rgba(60, 64, 67, 0.15);\n",
              "      fill: #174EA6;\n",
              "    }\n",
              "\n",
              "    [theme=dark] .colab-df-convert {\n",
              "      background-color: #3B4455;\n",
              "      fill: #D2E3FC;\n",
              "    }\n",
              "\n",
              "    [theme=dark] .colab-df-convert:hover {\n",
              "      background-color: #434B5C;\n",
              "      box-shadow: 0px 1px 3px 1px rgba(0, 0, 0, 0.15);\n",
              "      filter: drop-shadow(0px 1px 2px rgba(0, 0, 0, 0.3));\n",
              "      fill: #FFFFFF;\n",
              "    }\n",
              "  </style>\n",
              "\n",
              "      <script>\n",
              "        const buttonEl =\n",
              "          document.querySelector('#df-4b28d4f3-2102-4806-bdd8-aaf30a407b54 button.colab-df-convert');\n",
              "        buttonEl.style.display =\n",
              "          google.colab.kernel.accessAllowed ? 'block' : 'none';\n",
              "\n",
              "        async function convertToInteractive(key) {\n",
              "          const element = document.querySelector('#df-4b28d4f3-2102-4806-bdd8-aaf30a407b54');\n",
              "          const dataTable =\n",
              "            await google.colab.kernel.invokeFunction('convertToInteractive',\n",
              "                                                     [key], {});\n",
              "          if (!dataTable) return;\n",
              "\n",
              "          const docLinkHtml = 'Like what you see? Visit the ' +\n",
              "            '<a target=\"_blank\" href=https://colab.research.google.com/notebooks/data_table.ipynb>data table notebook</a>'\n",
              "            + ' to learn more about interactive tables.';\n",
              "          element.innerHTML = '';\n",
              "          dataTable['output_type'] = 'display_data';\n",
              "          await google.colab.output.renderOutput(dataTable, element);\n",
              "          const docLink = document.createElement('div');\n",
              "          docLink.innerHTML = docLinkHtml;\n",
              "          element.appendChild(docLink);\n",
              "        }\n",
              "      </script>\n",
              "    </div>\n",
              "  </div>\n",
              "  "
            ],
            "text/plain": [
              "      target  review_id\n",
              "0          8          3\n",
              "1          8          4\n",
              "2          8         13\n",
              "3          0         14\n",
              "4          8         17\n",
              "...      ...        ...\n",
              "50646      0     192819\n",
              "50647    0,8     192821\n",
              "50648    1,8     192830\n",
              "50649    1,8     192832\n",
              "50650    0,8     192833\n",
              "\n",
              "[50651 rows x 2 columns]"
            ]
          },
          "metadata": {},
          "execution_count": 40
        }
      ],
      "source": [
        "final"
      ]
    }
  ],
  "metadata": {
    "colab": {
      "collapsed_sections": [],
      "name": "HH Bert.ipynb",
      "provenance": []
    },
    "kernelspec": {
      "display_name": "Python 3",
      "name": "python3"
    },
    "language_info": {
      "name": "python"
    },
    "accelerator": "GPU"
  },
  "nbformat": 4,
  "nbformat_minor": 0
}